{
 "cells": [
  {
   "cell_type": "code",
   "execution_count": 111,
   "metadata": {
    "collapsed": false
   },
   "outputs": [],
   "source": [
    "import blosc\n",
    "import os\n",
    "import shutil\n",
    "import pandas as pd\n",
    "import pyarrow as pa\n",
    "import pyarrow.parquet as pq\n",
    "\n",
    "#### Creating data for long DFs\n",
    "rating_10K_brand_data = {\n",
    "          \"respondent\": [i for i in xrange(10000)],\n",
    "          \"country\":[\"UK\", \"UK\", \"UK\", \"USA\", \"USA\"] * 2000,\n",
    "          \"ps4_rating\": [3.0, 2.0, 9.0, 7.0, 2.0] * 2000,\n",
    "          \"xbox_rating\": [2.0, 4.0, 2.0, 8.0, 6.0] * 2000,\n",
    "          \"switch_rating\": [3.0, 6.0, 7.0, 4.0, 5.0] * 2000\n",
    "      }\n",
    "\n",
    "rating_100K_brand_data = {\n",
    "          \"respondent\"   : [i for i in xrange(100000)],\n",
    "          \"country\"      : [\"UK\", \"UK\", \"UK\", \"USA\", \"USA\"] * 20000,\n",
    "          \"ps4_rating\"  : [3.0, 2.0, 9.0, 7.0, 2.0] * 20000,\n",
    "          \"xbox_rating\" : [2.0, 4.0, 2.0, 8.0, 6.0] * 20000,\n",
    "          \"switch_rating\"  : [3.0, 6.0, 7.0, 4.0, 5.0] * 20000\n",
    "      }\n",
    "\n",
    "rating_1M_brand_data = {\n",
    "          \"respondent\"   : [i for i in xrange(1000000)],\n",
    "          \"country\"      : [\"UK\", \"UK\", \"UK\", \"USA\", \"USA\"] * 200000,\n",
    "          \"ps4_rating\"  : [3.0, 2.0, 9.0, 7.0, 2.0] * 200000,\n",
    "          \"xbox_rating\" : [2.0, 4.0, 2.0, 8.0, 6.0] * 200000,\n",
    "          \"switch_rating\"  : [3.0, 6.0, 7.0, 4.0, 5.0] * 200000\n",
    "      }\n",
    "\n",
    "#### Creating data for wide DFs\n",
    "rating_100_col_brand_data = {\n",
    "    'col_' + str(i): [3.0, 2.0, 9.0, 7.0, 2.0] * 30 \n",
    "    for i in xrange(100)\n",
    "}\n",
    "rating_100_col_brand_data['respondent'] = [i for i in xrange(150)]\n",
    "\n",
    "rating_1K_col_brand_data = {\n",
    "    'col_' + str(i): [3.0, 2.0, 9.0, 7.0, 2.0] * 30 \n",
    "    for i in xrange(1000)\n",
    "}\n",
    "rating_1K_col_brand_data['respondent'] = [i for i in xrange(150)]\n",
    "\n",
    "rating_10K_col_brand_data = {\n",
    "    'col_' + str(i): [3.0, 2.0, 9.0, 7.0, 2.0] * 30 \n",
    "    for i in xrange(10000)\n",
    "}\n",
    "rating_10K_col_brand_data['respondent'] = [i for i in xrange(150)]\n",
    "\n",
    "#### Creating long DFs\n",
    "rating_10K = pd.DataFrame(rating_10K_brand_data)\n",
    "rating_10K = rating_10K.set_index(['respondent', 'country'])\n",
    "\n",
    "rating_100K = pd.DataFrame(rating_100K_brand_data)\n",
    "rating_100K = rating_100K.set_index(['respondent', 'country'])\n",
    "\n",
    "rating_1M = pd.DataFrame(rating_1M_brand_data)\n",
    "rating_1M = rating_1M.set_index(['respondent', 'country'])\n",
    "\n",
    "###### Creating wide DFs\n",
    "rating_100_col = pd.DataFrame(rating_100_col_brand_data)\n",
    "rating_100_col = rating_100_col.set_index(['respondent'])\n",
    "\n",
    "rating_1K_col = pd.DataFrame(rating_1K_col_brand_data)\n",
    "rating_1K_col = rating_1K_col.set_index(['respondent'])\n",
    "\n",
    "rating_10K_col = pd.DataFrame(rating_10K_col_brand_data)\n",
    "rating_10K_col = rating_10K_col.set_index(['respondent'])\n",
    "\n",
    "\n",
    "##### Setting up dirs\n",
    "try:\n",
    "    os.makedirs('example_parquet_files')\n",
    "    os.makedirs('example_blosc_files')\n",
    "except Exception as exc:\n",
    "    raise exc\n",
    "\n",
    "\n",
    "#### Compression function (for demonstration purposes)\n",
    "def compress_df(df, data_dir):\n",
    "    try:\n",
    "        data_path = os.path.join('example_blosc_files', data_dir)\n",
    "        os.makedirs(data_path)\n",
    "        \n",
    "        for col in df.columns.tolist():\n",
    "            packed_array = blosc.pack_array(df[col].values)\n",
    "            with open(os.path.join(data_path, \"{}.bin\".format(col)), 'wb') as data_file:\n",
    "                data_file.write(packed_array)\n",
    "    except Exception as exc:\n",
    "        raise exc\n",
    "    \n"
   ]
  },
  {
   "cell_type": "markdown",
   "metadata": {},
   "source": [
    "### Snappy Compression"
   ]
  },
  {
   "cell_type": "markdown",
   "metadata": {},
   "source": [
    "#### Long DFs "
   ]
  },
  {
   "cell_type": "code",
   "execution_count": 39,
   "metadata": {
    "collapsed": true
   },
   "outputs": [],
   "source": [
    "arr_table_10K = pa.Table.from_pandas(rating_10K)"
   ]
  },
  {
   "cell_type": "code",
   "execution_count": 42,
   "metadata": {
    "collapsed": true
   },
   "outputs": [],
   "source": [
    "pq.write_table(arr_table_10K, 'example_parquet_files/rating_10K.parquet')"
   ]
  },
  {
   "cell_type": "code",
   "execution_count": 43,
   "metadata": {
    "collapsed": false
   },
   "outputs": [
    {
     "name": "stdout",
     "output_type": "stream",
     "text": [
      "100 loops, best of 3: 4.35 ms per loop\n"
     ]
    }
   ],
   "source": [
    "%timeit df_out = pq.read_table('example_parquet_files/rating_10K.parquet', columns=None).to_pandas()"
   ]
  },
  {
   "cell_type": "code",
   "execution_count": 44,
   "metadata": {
    "collapsed": true
   },
   "outputs": [],
   "source": [
    "arr_table_100K = pa.Table.from_pandas(rating_100K)"
   ]
  },
  {
   "cell_type": "code",
   "execution_count": 45,
   "metadata": {
    "collapsed": true
   },
   "outputs": [],
   "source": [
    "pq.write_table(arr_table_100K, 'example_parquet_files/rating_100K.parquet')"
   ]
  },
  {
   "cell_type": "code",
   "execution_count": 7,
   "metadata": {
    "collapsed": false
   },
   "outputs": [
    {
     "name": "stdout",
     "output_type": "stream",
     "text": [
      "10 loops, best of 3: 32.5 ms per loop\n"
     ]
    }
   ],
   "source": [
    "%timeit df_out = pq.read_table('example_parquet_files/rating_100K.parquet', columns=None).to_pandas()"
   ]
  },
  {
   "cell_type": "code",
   "execution_count": 46,
   "metadata": {
    "collapsed": true
   },
   "outputs": [],
   "source": [
    "arr_table_1M = pa.Table.from_pandas(rating_1M)"
   ]
  },
  {
   "cell_type": "code",
   "execution_count": 47,
   "metadata": {
    "collapsed": true
   },
   "outputs": [],
   "source": [
    "pq.write_table(arr_table_1M, 'example_parquet_files/rating_1M.parquet')"
   ]
  },
  {
   "cell_type": "code",
   "execution_count": 10,
   "metadata": {
    "collapsed": false
   },
   "outputs": [
    {
     "name": "stdout",
     "output_type": "stream",
     "text": [
      "1 loop, best of 3: 422 ms per loop\n"
     ]
    }
   ],
   "source": [
    "%timeit df_out = pq.read_table('example_parquet_files/rating_1M.parquet', columns=None).to_pandas()"
   ]
  },
  {
   "cell_type": "markdown",
   "metadata": {},
   "source": [
    "#### Wide DFs"
   ]
  },
  {
   "cell_type": "code",
   "execution_count": 48,
   "metadata": {
    "collapsed": true
   },
   "outputs": [],
   "source": [
    "arr_table_100_col = pa.Table.from_pandas(rating_100_col)"
   ]
  },
  {
   "cell_type": "code",
   "execution_count": 49,
   "metadata": {
    "collapsed": true
   },
   "outputs": [],
   "source": [
    "pq.write_table(arr_table_100_col, 'example_parquet_files/rating_100_col.parquet')"
   ]
  },
  {
   "cell_type": "code",
   "execution_count": 13,
   "metadata": {
    "collapsed": false
   },
   "outputs": [
    {
     "name": "stdout",
     "output_type": "stream",
     "text": [
      "100 loops, best of 3: 4.21 ms per loop\n"
     ]
    }
   ],
   "source": [
    "%timeit df_out = pq.read_table('example_parquet_files/rating_100_col.parquet', columns=None).to_pandas()"
   ]
  },
  {
   "cell_type": "code",
   "execution_count": 50,
   "metadata": {
    "collapsed": true
   },
   "outputs": [],
   "source": [
    "arr_table_1K_col = pa.Table.from_pandas(rating_1K_col)"
   ]
  },
  {
   "cell_type": "code",
   "execution_count": 51,
   "metadata": {
    "collapsed": true
   },
   "outputs": [],
   "source": [
    "pq.write_table(arr_table_1K_col, 'example_parquet_files/rating_1K_col.parquet')"
   ]
  },
  {
   "cell_type": "code",
   "execution_count": 16,
   "metadata": {
    "collapsed": false
   },
   "outputs": [
    {
     "name": "stdout",
     "output_type": "stream",
     "text": [
      "10 loops, best of 3: 34.4 ms per loop\n"
     ]
    }
   ],
   "source": [
    "%timeit df_out = pq.read_table('example_parquet_files/rating_1K_col.parquet', columns=None).to_pandas()"
   ]
  },
  {
   "cell_type": "code",
   "execution_count": 52,
   "metadata": {
    "collapsed": true
   },
   "outputs": [],
   "source": [
    "arr_table_10K_col = pa.Table.from_pandas(rating_10K_col)"
   ]
  },
  {
   "cell_type": "code",
   "execution_count": 53,
   "metadata": {
    "collapsed": true
   },
   "outputs": [],
   "source": [
    "pq.write_table(arr_table_10K_col, 'example_parquet_files/rating_10K_col.parquet')"
   ]
  },
  {
   "cell_type": "code",
   "execution_count": 19,
   "metadata": {
    "collapsed": false
   },
   "outputs": [
    {
     "name": "stdout",
     "output_type": "stream",
     "text": [
      "1 loop, best of 3: 366 ms per loop\n"
     ]
    }
   ],
   "source": [
    "%timeit df_out = pq.read_table('example_parquet_files/rating_10K_col.parquet', columns=None).to_pandas()"
   ]
  },
  {
   "cell_type": "markdown",
   "metadata": {},
   "source": [
    "### Brotli Compression"
   ]
  },
  {
   "cell_type": "markdown",
   "metadata": {},
   "source": [
    "#### Long DFs"
   ]
  },
  {
   "cell_type": "code",
   "execution_count": 68,
   "metadata": {
    "collapsed": true
   },
   "outputs": [],
   "source": [
    "arr_table_10K = pa.Table.from_pandas(rating_10K)"
   ]
  },
  {
   "cell_type": "code",
   "execution_count": 69,
   "metadata": {
    "collapsed": true
   },
   "outputs": [],
   "source": [
    "pq.write_table(arr_table_10K, 'example_parquet_files/rating_10K.parquet', compression=\"BROTLI\")"
   ]
  },
  {
   "cell_type": "code",
   "execution_count": 31,
   "metadata": {
    "collapsed": false
   },
   "outputs": [
    {
     "name": "stdout",
     "output_type": "stream",
     "text": [
      "100 loops, best of 3: 4.27 ms per loop\n"
     ]
    }
   ],
   "source": [
    "%timeit df_out = pq.read_table('example_parquet_files/rating_10K.parquet', columns=None).to_pandas()"
   ]
  },
  {
   "cell_type": "code",
   "execution_count": 56,
   "metadata": {
    "collapsed": true
   },
   "outputs": [],
   "source": [
    "arr_table_100K = pa.Table.from_pandas(rating_100K)"
   ]
  },
  {
   "cell_type": "code",
   "execution_count": 57,
   "metadata": {
    "collapsed": true
   },
   "outputs": [],
   "source": [
    "pq.write_table(arr_table_100K, 'example_parquet_files/rating_100K.parquet', compression=\"BROTLI\")"
   ]
  },
  {
   "cell_type": "code",
   "execution_count": 34,
   "metadata": {
    "collapsed": false
   },
   "outputs": [
    {
     "name": "stdout",
     "output_type": "stream",
     "text": [
      "10 loops, best of 3: 28.6 ms per loop\n"
     ]
    }
   ],
   "source": [
    "%timeit df_out = pq.read_table('example_parquet_files/rating_100K.parquet', columns=None).to_pandas()"
   ]
  },
  {
   "cell_type": "code",
   "execution_count": 58,
   "metadata": {
    "collapsed": true
   },
   "outputs": [],
   "source": [
    "arr_table_1M = pa.Table.from_pandas(rating_1M)"
   ]
  },
  {
   "cell_type": "code",
   "execution_count": 59,
   "metadata": {
    "collapsed": true
   },
   "outputs": [],
   "source": [
    "pq.write_table(arr_table_1M, 'example_parquet_files/rating_1M.parquet', compression=\"BROTLI\")"
   ]
  },
  {
   "cell_type": "code",
   "execution_count": 37,
   "metadata": {
    "collapsed": false
   },
   "outputs": [
    {
     "name": "stdout",
     "output_type": "stream",
     "text": [
      "1 loop, best of 3: 421 ms per loop\n"
     ]
    }
   ],
   "source": [
    "%timeit df_out = pq.read_table('example_parquet_files/rating_1M.parquet', columns=None).to_pandas()"
   ]
  },
  {
   "cell_type": "markdown",
   "metadata": {},
   "source": [
    "#### Wide DFs"
   ]
  },
  {
   "cell_type": "code",
   "execution_count": 60,
   "metadata": {
    "collapsed": true
   },
   "outputs": [],
   "source": [
    "arr_table_100_col = pa.Table.from_pandas(rating_100_col)"
   ]
  },
  {
   "cell_type": "code",
   "execution_count": 61,
   "metadata": {
    "collapsed": true
   },
   "outputs": [],
   "source": [
    "pq.write_table(arr_table_100_col, 'example_parquet_files/rating_100_col.parquet', compression=\"BROTLI\")"
   ]
  },
  {
   "cell_type": "code",
   "execution_count": 22,
   "metadata": {
    "collapsed": false
   },
   "outputs": [
    {
     "name": "stdout",
     "output_type": "stream",
     "text": [
      "100 loops, best of 3: 4.54 ms per loop\n"
     ]
    }
   ],
   "source": [
    "%timeit df_out = pq.read_table('example_parquet_files/rating_100_col.parquet', columns=None).to_pandas()"
   ]
  },
  {
   "cell_type": "code",
   "execution_count": 64,
   "metadata": {
    "collapsed": true
   },
   "outputs": [],
   "source": [
    "arr_table_1K_col = pa.Table.from_pandas(rating_1K_col)"
   ]
  },
  {
   "cell_type": "code",
   "execution_count": 65,
   "metadata": {
    "collapsed": true
   },
   "outputs": [],
   "source": [
    "pq.write_table(arr_table_1K_col, 'example_parquet_files/rating_1K_col.parquet', compression=\"BROTLI\")"
   ]
  },
  {
   "cell_type": "code",
   "execution_count": 25,
   "metadata": {
    "collapsed": false
   },
   "outputs": [
    {
     "name": "stdout",
     "output_type": "stream",
     "text": [
      "10 loops, best of 3: 37.6 ms per loop\n"
     ]
    }
   ],
   "source": [
    "%timeit df_out = pq.read_table('example_parquet_files/rating_1K_col.parquet', columns=None).to_pandas()"
   ]
  },
  {
   "cell_type": "code",
   "execution_count": 66,
   "metadata": {
    "collapsed": true
   },
   "outputs": [],
   "source": [
    "arr_table_10K_col = pa.Table.from_pandas(rating_10K_col)"
   ]
  },
  {
   "cell_type": "code",
   "execution_count": 67,
   "metadata": {
    "collapsed": true
   },
   "outputs": [],
   "source": [
    "pq.write_table(arr_table_10K_col, 'example_parquet_files/rating_10K_col.parquet', compression=\"BROTLI\")"
   ]
  },
  {
   "cell_type": "code",
   "execution_count": 28,
   "metadata": {
    "collapsed": false
   },
   "outputs": [
    {
     "name": "stdout",
     "output_type": "stream",
     "text": [
      "1 loop, best of 3: 406 ms per loop\n"
     ]
    }
   ],
   "source": [
    "%timeit df_out = pq.read_table('example_parquet_files/rating_10K_col.parquet', columns=None).to_pandas()"
   ]
  },
  {
   "cell_type": "markdown",
   "metadata": {},
   "source": [
    "### Blosc Compressed Columns"
   ]
  },
  {
   "cell_type": "markdown",
   "metadata": {},
   "source": [
    "#### Long DFs"
   ]
  },
  {
   "cell_type": "code",
   "execution_count": 112,
   "metadata": {
    "collapsed": false
   },
   "outputs": [],
   "source": [
    "compress_df(rating_10K, 'rating_10K')"
   ]
  },
  {
   "cell_type": "code",
   "execution_count": 113,
   "metadata": {
    "collapsed": false
   },
   "outputs": [],
   "source": [
    "compress_df(rating_100K, 'rating_100K')"
   ]
  },
  {
   "cell_type": "code",
   "execution_count": 114,
   "metadata": {
    "collapsed": true
   },
   "outputs": [],
   "source": [
    "compress_df(rating_1M, 'rating_1M')"
   ]
  },
  {
   "cell_type": "markdown",
   "metadata": {},
   "source": [
    "#### Wide DFs"
   ]
  },
  {
   "cell_type": "code",
   "execution_count": 115,
   "metadata": {
    "collapsed": true
   },
   "outputs": [],
   "source": [
    "compress_df(rating_100_col, 'rating_100_col')"
   ]
  },
  {
   "cell_type": "code",
   "execution_count": 116,
   "metadata": {
    "collapsed": true
   },
   "outputs": [],
   "source": [
    "compress_df(rating_1K_col, 'rating_1K_col')"
   ]
  },
  {
   "cell_type": "code",
   "execution_count": 117,
   "metadata": {
    "collapsed": true
   },
   "outputs": [],
   "source": [
    "compress_df(rating_10K_col, 'rating_10K_col')"
   ]
  },
  {
   "cell_type": "code",
   "execution_count": 118,
   "metadata": {
    "collapsed": false
   },
   "outputs": [],
   "source": [
    "shutil.rmtree('example_parquet_files')\n",
    "shutil.rmtree('example_blosc_files')"
   ]
  },
  {
   "cell_type": "code",
   "execution_count": null,
   "metadata": {
    "collapsed": true
   },
   "outputs": [],
   "source": []
  }
 ],
 "metadata": {
  "kernelspec": {
   "display_name": "Python [q8_env]",
   "language": "python",
   "name": "Python [q8_env]"
  },
  "language_info": {
   "codemirror_mode": {
    "name": "ipython",
    "version": 2
   },
   "file_extension": ".py",
   "mimetype": "text/x-python",
   "name": "python",
   "nbconvert_exporter": "python",
   "pygments_lexer": "ipython2",
   "version": "2.7.12"
  }
 },
 "nbformat": 4,
 "nbformat_minor": 0
}
